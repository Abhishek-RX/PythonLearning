{
 "cells": [
  {
   "cell_type": "code",
   "execution_count": null,
   "metadata": {},
   "outputs": [
    {
     "name": "stdout",
     "output_type": "stream",
     "text": [
      "(250, 7)\n",
      "Index(['Date ', 'Open ', 'High ', 'Low ', 'Close ', 'Shares Traded ',\n",
      "       'Turnover (₹ Cr)'],\n",
      "      dtype='object')\n"
     ]
    },
    {
     "ename": "AttributeError",
     "evalue": "module 'matplotlib.pyplot' has no attribute 'histogram'",
     "output_type": "error",
     "traceback": [
      "\u001b[31m---------------------------------------------------------------------------\u001b[39m",
      "\u001b[31mAttributeError\u001b[39m                            Traceback (most recent call last)",
      "\u001b[36mCell\u001b[39m\u001b[36m \u001b[39m\u001b[32mIn[5]\u001b[39m\u001b[32m, line 21\u001b[39m\n\u001b[32m     18\u001b[39m plt.figure(figsize=(\u001b[32m13\u001b[39m, \u001b[32m7\u001b[39m), facecolor=\u001b[33m'\u001b[39m\u001b[33mlightgrey\u001b[39m\u001b[33m'\u001b[39m)   \u001b[38;5;66;03m# window size and background color\u001b[39;00m\n\u001b[32m     20\u001b[39m \u001b[38;5;66;03m# Plotting the data\u001b[39;00m\n\u001b[32m---> \u001b[39m\u001b[32m21\u001b[39m \u001b[43mplt\u001b[49m\u001b[43m.\u001b[49m\u001b[43mhistogram\u001b[49m(data[\u001b[33m'\u001b[39m\u001b[33mDate \u001b[39m\u001b[33m'\u001b[39m], data[\u001b[33m'\u001b[39m\u001b[33mClose \u001b[39m\u001b[33m'\u001b[39m], label=\u001b[33m\"\u001b[39m\u001b[33mNifty chart\u001b[39m\u001b[33m\"\u001b[39m, marker=\u001b[33m\"\u001b[39m\u001b[33m.\u001b[39m\u001b[33m\"\u001b[39m, markersize=\u001b[32m8\u001b[39m, linestyle=\u001b[33m\"\u001b[39m\u001b[33m-\u001b[39m\u001b[33m\"\u001b[39m, color=\u001b[33m\"\u001b[39m\u001b[33mblack\u001b[39m\u001b[33m\"\u001b[39m)\n\u001b[32m     23\u001b[39m \u001b[38;5;66;03m# Customize the axes background color\u001b[39;00m\n\u001b[32m     24\u001b[39m ax = plt.gca()\n",
      "\u001b[31mAttributeError\u001b[39m: module 'matplotlib.pyplot' has no attribute 'histogram'"
     ]
    },
    {
     "data": {
      "text/plain": [
       "<Figure size 1300x700 with 0 Axes>"
      ]
     },
     "metadata": {},
     "output_type": "display_data"
    }
   ],
   "source": [
    "# 1 Year chart of nifty \n",
    "\n",
    "import numpy as np \n",
    "import pandas as pd \n",
    "import matplotlib.pyplot as plt \n",
    "%matplotlib inline \n",
    "# Read data from CSV file\n",
    "data = pd.read_csv('Nifty1.csv')\n",
    "print(data.shape)\n",
    "\n",
    "# Print the column names to check for discrepancies\n",
    "print(data.columns)\n",
    "\n",
    "# Convert 'Date' column to datetime with specified format\n",
    "data['Date '] = pd.to_datetime(data['Date '], format='%d-%b-%Y')\n",
    "\n",
    "# Create a figure with a specific background color\n",
    "plt.figure(figsize=(13, 7), facecolor='lightgrey')   # window size and background color\n",
    "\n",
    "# Plotting the data\n",
    "plt.plot(data['Date '], data['Close '], label=\"Nifty chart\", marker=\".\", markersize=8, linestyle=\"-\", color=\"black\")\n",
    "\n",
    "# Customize the axes background color\n",
    "ax = plt.gca()\n",
    "ax.set_facecolor('whitesmoke')\n",
    "\n",
    "# Adding labels and title\n",
    "plt.xlabel(\"Date\")\n",
    "plt.ylabel(\"Price\")\n",
    "plt.title(\"Nifty Chart\")\n",
    "plt.legend()\n",
    "plt.grid()\n",
    "\n",
    "# Display the plot\n",
    "plt.show()\n"
   ]
  }
 ],
 "metadata": {
  "kernelspec": {
   "display_name": ".venv",
   "language": "python",
   "name": "python3"
  },
  "language_info": {
   "codemirror_mode": {
    "name": "ipython",
    "version": 3
   },
   "file_extension": ".py",
   "mimetype": "text/x-python",
   "name": "python",
   "nbconvert_exporter": "python",
   "pygments_lexer": "ipython3",
   "version": "3.11.0"
  }
 },
 "nbformat": 4,
 "nbformat_minor": 2
}
